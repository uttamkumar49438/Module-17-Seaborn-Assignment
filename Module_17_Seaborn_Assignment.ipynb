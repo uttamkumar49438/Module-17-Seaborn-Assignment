{
  "nbformat": 4,
  "nbformat_minor": 0,
  "metadata": {
    "colab": {
      "provenance": []
    },
    "kernelspec": {
      "name": "python3",
      "display_name": "Python 3"
    },
    "language_info": {
      "name": "python"
    }
  },
  "cells": [
    {
      "cell_type": "markdown",
      "source": [
        "Que 1: Name any five plots that we can plot using the Seaborn library. Also, state the uses of each plot."
      ],
      "metadata": {
        "id": "hPmASZINJQPT"
      }
    },
    {
      "cell_type": "markdown",
      "source": [
        "Seaborn is a Python visualization library based on Matplotlib that provides a high-level interface for drawing attractive and informative statistical graphics. It is built on top of Matplotlib and closely integrated with Pandas data structures, making it particularly useful for visualizing complex datasets\n",
        "\n",
        "- Scatter Plot = They help in identifying patterns, correlations, and outliers in the data. Seaborn's scatterplot()\n",
        "\n",
        "- Histogram = Histograms are used to visualize the distribution of a single variable by dividing the data into bins and plotting the frequency or density of observations in each bin\n",
        "\n",
        "- Bar Plot = Bar plots are used to compare the values of different categories by representing them as bars with heights proportional to the values they represent\n",
        "\n",
        "- Box Plot = They provide a summary of the central tendency, spread, and skewness of the data. Seaborn's boxplot() function supports grouping data\n",
        "\n",
        "- Heat Map = They are particularly useful for identifying correlations and patterns in large datasets. Seaborn's heatmap() function"
      ],
      "metadata": {
        "id": "3tZ-qbloJpKQ"
      }
    },
    {
      "cell_type": "markdown",
      "source": [
        "Que 2: Load the \"fmri\" dataset using the load_dataset function of seaborn. Plot a line plot using x =\n",
        "\"timepoint\" and y = \"signal\" for different events and regions.\n",
        "Note: timepoint, signal, event, and region are columns in the fmri dataset."
      ],
      "metadata": {
        "id": "rF8TChAYKJvv"
      }
    },
    {
      "cell_type": "code",
      "source": [
        "import seaborn as sns\n",
        "import matplotlib.pyplot as plt\n",
        "\n",
        "# Load the fmri dataset\n",
        "fmri_df = sns.load_dataset(\"fmri\")\n",
        "\n",
        "# Plot line plot\n",
        "plt.figure(figsize=(10, 6))\n",
        "sns.lineplot(data=fmri_df, x=\"timepoint\", y=\"signal\", hue=\"event\", style=\"region\", markers=True)\n",
        "plt.title(\"Line Plot of Signal over Time by Event and Region\")\n",
        "plt.xlabel(\"Timepoint\")\n",
        "plt.ylabel(\"Signal\")\n",
        "plt.legend(title=\"Event\")\n",
        "plt.grid(True)\n",
        "plt.show()"
      ],
      "metadata": {
        "id": "Wiq11efbKStM"
      },
      "execution_count": null,
      "outputs": []
    },
    {
      "cell_type": "markdown",
      "source": [
        "Que 3: Load the \"titanic\" dataset using the load_dataset function of seaborn. Plot two box plots using x =\n",
        "'pclass', y = 'age' and y = 'fare'.\n",
        "Note: pclass, age, and fare are columns in the titanic dataset."
      ],
      "metadata": {
        "id": "U3HpwWxOKUFv"
      }
    },
    {
      "cell_type": "code",
      "source": [
        "import seaborn as sns\n",
        "import matplotlib.pyplot as plt\n",
        "\n",
        "# Load the titanic dataset\n",
        "titanic_df = sns.load_dataset(\"titanic\")\n",
        "\n",
        "# Plot box plots\n",
        "plt.figure(figsize=(12, 6))\n",
        "\n",
        "# Box plot for 'age'\n",
        "plt.subplot(1, 2, 1)\n",
        "sns.boxplot(data=titanic_df, x='pclass', y='age')\n",
        "plt.title('Box Plot of Age by Pclass')\n",
        "plt.xlabel('Pclass')\n",
        "plt.ylabel('Age')\n",
        "\n",
        "# Box plot for 'fare'\n",
        "plt.subplot(1, 2, 2)\n",
        "sns.boxplot(data=titanic_df, x='pclass', y='fare')\n",
        "plt.title('Box Plot of Fare by Pclass')\n",
        "plt.xlabel('Pclass')\n",
        "plt.ylabel('Fare')\n",
        "\n",
        "plt.tight_layout()\n",
        "plt.show()"
      ],
      "metadata": {
        "id": "4YD1bEARKYz7"
      },
      "execution_count": null,
      "outputs": []
    },
    {
      "cell_type": "markdown",
      "source": [
        "Que 4: Use the \"diamonds\" dataset from seaborn to plot a histogram for the 'price' column. Use the hue\n",
        "parameter for the 'cut' column of the diamonds dataset."
      ],
      "metadata": {
        "id": "uuEXHd__KcaY"
      }
    },
    {
      "cell_type": "code",
      "source": [
        "import seaborn as sns\n",
        "import matplotlib.pyplot as plt\n",
        "\n",
        "# Load the diamonds dataset\n",
        "diamonds_df = sns.load_dataset(\"diamonds\")\n",
        "\n",
        "# Plot histogram with hue for 'cut'\n",
        "plt.figure(figsize=(10, 6))\n",
        "sns.histplot(data=diamonds_df, x='price', hue='cut', bins=30, kde=True, palette='Set1')\n",
        "plt.title('Histogram of Price by Cut')\n",
        "plt.xlabel('Price')\n",
        "plt.ylabel('Frequency')\n",
        "plt.legend(title='Cut')\n",
        "plt.grid(True)\n",
        "plt.show()"
      ],
      "metadata": {
        "id": "qKXT1y-RKgtH"
      },
      "execution_count": null,
      "outputs": []
    },
    {
      "cell_type": "markdown",
      "source": [
        "Que 5: Use the \"iris\" dataset from seaborn to plot a pair plot. Use the hue parameter for the \"species\" column\n",
        "of the iris dataset."
      ],
      "metadata": {
        "id": "BSCaWlEqKlCP"
      }
    },
    {
      "cell_type": "code",
      "source": [
        "import seaborn as sns\n",
        "import matplotlib.pyplot as plt\n",
        "\n",
        "# Load the iris dataset\n",
        "iris_df = sns.load_dataset(\"iris\")\n",
        "\n",
        "# Plot pair plot with hue for 'species'\n",
        "sns.pairplot(data=iris_df, hue='species', palette='husl')\n",
        "plt.title('Pair Plot of Iris Dataset')\n",
        "plt.show()"
      ],
      "metadata": {
        "id": "qgFOoLEmKpEx"
      },
      "execution_count": null,
      "outputs": []
    },
    {
      "cell_type": "markdown",
      "source": [
        "Que 6: Use the \"flights\" dataset from seaborn to plot a heatmap."
      ],
      "metadata": {
        "id": "O1wtg19BKtuJ"
      }
    },
    {
      "cell_type": "code",
      "source": [
        "import seaborn as sns\n",
        "import matplotlib.pyplot as plt\n",
        "\n",
        "# Load the flights dataset\n",
        "flights_df = sns.load_dataset(\"flights\")\n",
        "\n",
        "# Pivot the dataset to create a matrix suitable for heatmap\n",
        "flights_pivot = flights_df.pivot(\"month\", \"year\", \"passengers\")\n",
        "\n",
        "# Plot heatmap\n",
        "plt.figure(figsize=(10, 8))\n",
        "sns.heatmap(flights_pivot, annot=True, fmt=\"d\", cmap=\"YlGnBu\")\n",
        "plt.title('Heatmap of Flight Passengers')\n",
        "plt.xlabel('Year')\n",
        "plt.ylabel('Month')\n",
        "plt.show()"
      ],
      "metadata": {
        "id": "rf9Q04MmKzn6"
      },
      "execution_count": null,
      "outputs": []
    }
  ]
}